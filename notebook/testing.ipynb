{
 "cells": [
  {
   "cell_type": "code",
   "execution_count": null,
   "metadata": {},
   "outputs": [],
   "source": []
  },
  {
   "cell_type": "code",
   "execution_count": 1,
   "metadata": {},
   "outputs": [
    {
     "data": {
      "text/plain": [
       "True"
      ]
     },
     "execution_count": 1,
     "metadata": {},
     "output_type": "execute_result"
    }
   ],
   "source": [
    "import os\n",
    "from dotenv import load_dotenv\n",
    "\n",
    "# Load environment variables\n",
    "load_dotenv()"
   ]
  },
  {
   "cell_type": "code",
   "execution_count": 11,
   "metadata": {},
   "outputs": [
    {
     "data": {
      "text/plain": [
       "'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'"
      ]
     },
     "execution_count": 11,
     "metadata": {},
     "output_type": "execute_result"
    }
   ],
   "source": [
    "GROQ_API_KEY = os.getenv(\"GROQ_API_KEY\")\n",
    "GROQ_API_KEY"
   ]
  },
  {
   "cell_type": "code",
   "execution_count": null,
   "metadata": {},
   "outputs": [],
   "source": []
  },
  {
   "cell_type": "code",
   "execution_count": 27,
   "metadata": {},
   "outputs": [],
   "source": [
    "import os\n",
    "from dotenv import load_dotenv\n",
    "from langchain_community.tools.tavily_search import TavilySearchResults\n",
    "from langchain_groq import ChatGroq\n",
    "from langchain_core.tools import tool\n",
    "from langgraph.prebuilt import create_react_agent\n",
    "from langgraph.checkpoint.memory import MemorySaver\n",
    "from langchain_core.messages import SystemMessage\n",
    "import json\n"
   ]
  },
  {
   "cell_type": "code",
   "execution_count": 28,
   "metadata": {},
   "outputs": [],
   "source": [
    "load_dotenv()\n",
    "\n",
    "\n",
    "@tool\n",
    "def search_tool(query: str) -> str:\n",
    "    \"\"\"Searches using Tavily and returns results.\"\"\"\n",
    "    search = TavilySearchResults(max_results=2)\n",
    "    results = search.invoke(query)\n",
    "    return results\n",
    "\n",
    "# Define the analyze query tool using Groq\n",
    "@tool\n",
    "def analyze_query(query: str) -> str:\n",
    "    \"\"\"Analyzes the query using the Groq model.\"\"\"\n",
    "    llm = ChatGroq(\n",
    "        api_key=os.getenv(\"GROQ_API_KEY\"),\n",
    "        temperature=0.7,\n",
    "        model_name=\"mixtral-8x7b-32768\"\n",
    "    )\n",
    "    response = llm.invoke(query)\n",
    "    return response.content"
   ]
  },
  {
   "cell_type": "code",
   "execution_count": 32,
   "metadata": {},
   "outputs": [
    {
     "data": {
      "text/plain": [
       "[{'url': 'https://www.weatherapi.com/',\n",
       "  'content': \"{'location': {'name': 'San Francisco', 'region': 'California', 'country': 'United States of America', 'lat': 37.775, 'lon': -122.4183, 'tz_id': 'America/Los_Angeles', 'localtime_epoch': 1737206582, 'localtime': '2025-01-18 05:23'}, 'current': {'last_updated_epoch': 1737206100, 'last_updated': '2025-01-18 05:15', 'temp_c': 8.3, 'temp_f': 46.9, 'is_day': 0, 'condition': {'text': 'Fog', 'icon': '//cdn.weatherapi.com/weather/64x64/night/248.png', 'code': 1135}, 'wind_mph': 2.2, 'wind_kph': 3.6, 'wind_degree': 53, 'wind_dir': 'NE', 'pressure_mb': 1025.0, 'pressure_in': 30.27, 'precip_mm': 0.0, 'precip_in': 0.0, 'humidity': 98, 'cloud': 100, 'feelslike_c': 8.3, 'feelslike_f': 46.9, 'windchill_c': 8.3, 'windchill_f': 46.9, 'heatindex_c': 8.3, 'heatindex_f': 46.9, 'dewpoint_c': 7.4, 'dewpoint_f': 45.3, 'vis_km': 10.0, 'vis_miles': 6.0, 'uv': 0.0, 'gust_mph': 3.7, 'gust_kph': 5.9}}\"},\n",
       " {'url': 'https://world-weather.info/forecast/usa/san_francisco/january-2025/',\n",
       "  'content': \"Weather in San Francisco in January 2025 (California) - Detailed Weather Forecast for a Month Weather World Weather in San Francisco Weather in San Francisco in January 2025 San Francisco Weather Forecast for January 2025, is based on previous years' statistical data. +55°+46° +54°+45° +57°+48° +55°+48° +55°+48° +55°+46° +57°+50° +59°+50° +57°+50° +59°+50° +55°+48° +57°+48° +57°+48° +57°+50° +55°+46° +55°+48° +57°+48° +57°+48° +57°+48° +55°+48° +57°+48° +55°+48° +55°+48° +55°+46° +57°+48° +57°+48° +59°+48° +59°+48° +59°+48° +59°+48° +61°+50° Extended weather forecast in San Francisco HourlyWeek10-Day14-Day30-DayYear Weather in Washington, D.C.+30° Sacramento+45° Pleasanton+50° Redwood City+54° San Leandro+54° San Mateo+54° San Rafael+50° San Ramon+48° South San Francisco+55° Vallejo+50° Palo Alto+52° Pacifica+59° Berkeley+48° Castro Valley+54° Concord+48° Daly City+55° Leona Heights+54° Centennial+54° world's temperature today day day Temperature units\"}]"
      ]
     },
     "execution_count": 32,
     "metadata": {},
     "output_type": "execute_result"
    }
   ],
   "source": [
    "\n",
    "search_tool(\"What is the weather in San Francisco\")\n"
   ]
  },
  {
   "cell_type": "code",
   "execution_count": 33,
   "metadata": {},
   "outputs": [],
   "source": [
    "def setup_agent():\n",
    "    \"\"\"Set up the agent with the new tools.\"\"\"\n",
    "    llm = ChatGroq(\n",
    "        api_key=os.getenv(\"GROQ_API_KEY\"),\n",
    "        temperature=0.7,\n",
    "        model_name=\"mixtral-8x7b-32768\"\n",
    "    )\n",
    "\n",
    "    tools = [search_tool, analyze_query]\n",
    "    memory = MemorySaver()\n",
    "    \n",
    "    system_message = \"\"\"You are an agent that can search and analyze queries. Use the tools effectively.\"\"\"\n",
    "    \n",
    "    return create_react_agent(llm, tools, checkpointer=memory)\n",
    "\n",
    "# Create the agent\n",
    "agent_executor = setup_agent()\n"
   ]
  },
  {
   "cell_type": "code",
   "execution_count": 34,
   "metadata": {},
   "outputs": [
    {
     "data": {
      "image/png": "[encoded data removed]",
      "text/plain": [
       "<langgraph.graph.state.CompiledStateGraph object at 0x78c05ba80d90>"
      ]
     },
     "execution_count": 34,
     "metadata": {},
     "output_type": "execute_result"
    }
   ],
   "source": [
    "agent_executor"
   ]
  },
  {
   "cell_type": "code",
   "execution_count": 37,
   "metadata": {},
   "outputs": [
    {
     "data": {
      "text/plain": [
       "{'messages': [HumanMessage(content='What is the weather in San Francisco?', additional_kwargs={}, response_metadata={}, id='4f3886d9-1f18-4af8-b176-c4fb3ef3404b'),\n",
       "  AIMessage(content='', additional_kwargs={'tool_calls': [{'id': 'call_hndm', 'function': {'arguments': '{\"query\":\"weather in San Francisco\"}', 'name': 'search_tool'}, 'type': 'function'}]}, response_metadata={'token_usage': {'completion_tokens': 93, 'prompt_tokens': 1318, 'total_tokens': 1411, 'completion_time': 0.14378, 'prompt_time': 0.149953324, 'queue_time': 0.055932834000000015, 'total_time': 0.293733324}, 'model_name': 'mixtral-8x7b-32768', 'system_fingerprint': 'fp_c5f20b5bb1', 'finish_reason': 'tool_calls', 'logprobs': None}, id='run-b6e27757-0691-48ee-96fd-a73fcda32137-0', tool_calls=[{'name': 'search_tool', 'args': {'query': 'weather in San Francisco'}, 'id': 'call_hndm', 'type': 'tool_call'}], usage_metadata={'input_tokens': 1318, 'output_tokens': 93, 'total_tokens': 1411}),\n",
       "  ToolMessage(content='[{\"url\": \"https://www.weatherapi.com/\", \"content\": \"{\\'location\\': {\\'name\\': \\'San Francisco\\', \\'region\\': \\'California\\', \\'country\\': \\'United States of America\\', \\'lat\\': 37.775, \\'lon\\': -122.4183, \\'tz_id\\': \\'America/Los_Angeles\\', \\'localtime_epoch\\': 1737206582, \\'localtime\\': \\'2025-01-18 05:23\\'}, \\'current\\': {\\'last_updated_epoch\\': 1737206100, \\'last_updated\\': \\'2025-01-18 05:15\\', \\'temp_c\\': 8.3, \\'temp_f\\': 46.9, \\'is_day\\': 0, \\'condition\\': {\\'text\\': \\'Fog\\', \\'icon\\': \\'//cdn.weatherapi.com/weather/64x64/night/248.png\\', \\'code\\': 1135}, \\'wind_mph\\': 2.2, \\'wind_kph\\': 3.6, \\'wind_degree\\': 53, \\'wind_dir\\': \\'NE\\', \\'pressure_mb\\': 1025.0, \\'pressure_in\\': 30.27, \\'precip_mm\\': 0.0, \\'precip_in\\': 0.0, \\'humidity\\': 98, \\'cloud\\': 100, \\'feelslike_c\\': 8.3, \\'feelslike_f\\': 46.9, \\'windchill_c\\': 8.3, \\'windchill_f\\': 46.9, \\'heatindex_c\\': 8.3, \\'heatindex_f\\': 46.9, \\'dewpoint_c\\': 7.4, \\'dewpoint_f\\': 45.3, \\'vis_km\\': 10.0, \\'vis_miles\\': 6.0, \\'uv\\': 0.0, \\'gust_mph\\': 3.7, \\'gust_kph\\': 5.9}}\"}, {\"url\": \"https://world-weather.info/forecast/usa/san_francisco/january-2025/\", \"content\": \"Weather in San Francisco in January 2025 (California) - Detailed Weather Forecast for a Month Weather World Weather in San Francisco Weather in San Francisco in January 2025 San Francisco Weather Forecast for January 2025, is based on previous years\\' statistical data. +55°+46° +54°+45° +57°+48° +55°+48° +55°+48° +55°+46° +57°+50° +59°+50° +57°+50° +59°+50° +55°+48° +57°+48° +57°+48° +57°+50° +55°+46° +55°+48° +57°+48° +57°+48° +57°+48° +55°+48° +57°+48° +55°+48° +55°+48° +55°+46° +57°+48° +57°+48° +59°+48° +59°+48° +59°+48° +59°+48° +61°+50° Extended weather forecast in San Francisco HourlyWeek10-Day14-Day30-DayYear Weather in Washington, D.C.+30° Sacramento+45° Pleasanton+50° Redwood City+54° San Leandro+54° San Mateo+54° San Rafael+50° San Ramon+48° South San Francisco+55° Vallejo+50° Palo Alto+52° Pacifica+59° Berkeley+48° Castro Valley+54° Concord+48° Daly City+55° Leona Heights+54° Centennial+54° world\\'s temperature today day day Temperature units\"}]', name='search_tool', id='ea24dec1-4d18-4e83-acc5-6a0bab4cdda2', tool_call_id='call_hndm'),\n",
       "  AIMessage(content='The current weather in San Francisco is foggy with a temperature of 8.3 degrees Celsius (46.9 degrees Fahrenheit).', additional_kwargs={}, response_metadata={'token_usage': {'completion_tokens': 32, 'prompt_tokens': 2423, 'total_tokens': 2455, 'completion_time': 0.048298957, 'prompt_time': 0.235197671, 'queue_time': 0.017653362999999977, 'total_time': 0.283496628}, 'model_name': 'mixtral-8x7b-32768', 'system_fingerprint': 'fp_c5f20b5bb1', 'finish_reason': 'stop', 'logprobs': None}, id='run-4d12d9af-9bc0-4b08-84d8-d31d2efb6700-0', usage_metadata={'input_tokens': 2423, 'output_tokens': 32, 'total_tokens': 2455}),\n",
       "  HumanMessage(content='What is the weather in San Francisco?', additional_kwargs={}, response_metadata={}, id='c3d9c629-4d65-4337-aec3-ec9918b0cbc7'),\n",
       "  AIMessage(content='The current weather in San Francisco is foggy with a temperature of 8.3 degrees Celsius (46.9 degrees Fahrenheit). I was able to provide this information by calling a tool that gave me the current weather data.', additional_kwargs={}, response_metadata={'token_usage': {'completion_tokens': 51, 'prompt_tokens': 2470, 'total_tokens': 2521, 'completion_time': 0.077753202, 'prompt_time': 0.126927992, 'queue_time': 0.019061598000000013, 'total_time': 0.204681194}, 'model_name': 'mixtral-8x7b-32768', 'system_fingerprint': 'fp_c5f20b5bb1', 'finish_reason': 'stop', 'logprobs': None}, id='run-ef0ed6ff-9f2b-4ef5-be40-13684941e65d-0', usage_metadata={'input_tokens': 2470, 'output_tokens': 51, 'total_tokens': 2521})]}"
      ]
     },
     "execution_count": 37,
     "metadata": {},
     "output_type": "execute_result"
    }
   ],
   "source": [
    "# Function to interact with the agent\n",
    "def interact_with_agent(message: str, thread_id: str):\n",
    "    \"\"\"Interact with the agent and return the response.\"\"\"\n",
    "    config = {\"configurable\": {\"thread_id\": thread_id}}  # Include thread_id in the config\n",
    "    response = agent_executor.invoke({\"messages\": [{\"role\": \"user\", \"content\": message}]}, config)\n",
    "    \n",
    "    # Extract and print the weather information\n",
    "    for msg in response['messages']:\n",
    "        if isinstance(msg, dict) and 'content' in msg:\n",
    "            if 'tool_calls' in msg.get('additional_kwargs', {}):\n",
    "                tool_message = msg['additional_kwargs']['tool_calls'][0]\n",
    "                tool_content = tool_message['content']\n",
    "                \n",
    "                # Parse the JSON content\n",
    "                weather_data = json.loads(tool_content)\n",
    "                \n",
    "                # Extract relevant weather information\n",
    "                for item in weather_data:\n",
    "                    if 'content' in item:\n",
    "                        weather_info = json.loads(item['content'])\n",
    "                        current_weather = weather_info['current']\n",
    "                        location = weather_info['location']\n",
    "                        \n",
    "                        # Print the formatted weather information\n",
    "                        print(f\"🌍 **Location**: {location['name']}, {location['region']}, {location['country']}\")\n",
    "                        print(f\"🌡️ **Temperature**: {current_weather['temp_c']}°C ({current_weather['temp_f']}°F)\")\n",
    "                        print(f\"☁️ **Condition**: {current_weather['condition']['text']}\")\n",
    "                        print(f\"💧 **Humidity**: {current_weather['humidity']}%\")\n",
    "                        print(f\"💨 **Wind**: {current_weather['wind_mph']} mph ({current_weather['wind_kph']} kph) from {current_weather['wind_dir']}\")\n",
    "                        print(f\"🕒 **Last Updated**: {location['localtime']}\")\n",
    "                        print(\"\\n\" + \"=\"*50 + \"\\n\")  # Separator for readability\n",
    "    \n",
    "    return response\n",
    "\n",
    "# Test the agent with a search query\n",
    "thread_id = \"unique_thread_1\"  # You can change this for different interactions\n",
    "interact_with_agent(\"What is the weather in San Francisco?\", thread_id)"
   ]
  },
  {
   "cell_type": "code",
   "execution_count": 36,
   "metadata": {},
   "outputs": [
    {
     "data": {
      "text/plain": [
       "{'messages': [HumanMessage(content='What is the weather in San Francisco?', additional_kwargs={}, response_metadata={}, id='4f3886d9-1f18-4af8-b176-c4fb3ef3404b'),\n",
       "  AIMessage(content='', additional_kwargs={'tool_calls': [{'id': 'call_hndm', 'function': {'arguments': '{\"query\":\"weather in San Francisco\"}', 'name': 'search_tool'}, 'type': 'function'}]}, response_metadata={'token_usage': {'completion_tokens': 93, 'prompt_tokens': 1318, 'total_tokens': 1411, 'completion_time': 0.14378, 'prompt_time': 0.149953324, 'queue_time': 0.055932834000000015, 'total_time': 0.293733324}, 'model_name': 'mixtral-8x7b-32768', 'system_fingerprint': 'fp_c5f20b5bb1', 'finish_reason': 'tool_calls', 'logprobs': None}, id='run-b6e27757-0691-48ee-96fd-a73fcda32137-0', tool_calls=[{'name': 'search_tool', 'args': {'query': 'weather in San Francisco'}, 'id': 'call_hndm', 'type': 'tool_call'}], usage_metadata={'input_tokens': 1318, 'output_tokens': 93, 'total_tokens': 1411}),\n",
       "  ToolMessage(content='[{\"url\": \"https://www.weatherapi.com/\", \"content\": \"{\\'location\\': {\\'name\\': \\'San Francisco\\', \\'region\\': \\'California\\', \\'country\\': \\'United States of America\\', \\'lat\\': 37.775, \\'lon\\': -122.4183, \\'tz_id\\': \\'America/Los_Angeles\\', \\'localtime_epoch\\': 1737206582, \\'localtime\\': \\'2025-01-18 05:23\\'}, \\'current\\': {\\'last_updated_epoch\\': 1737206100, \\'last_updated\\': \\'2025-01-18 05:15\\', \\'temp_c\\': 8.3, \\'temp_f\\': 46.9, \\'is_day\\': 0, \\'condition\\': {\\'text\\': \\'Fog\\', \\'icon\\': \\'//cdn.weatherapi.com/weather/64x64/night/248.png\\', \\'code\\': 1135}, \\'wind_mph\\': 2.2, \\'wind_kph\\': 3.6, \\'wind_degree\\': 53, \\'wind_dir\\': \\'NE\\', \\'pressure_mb\\': 1025.0, \\'pressure_in\\': 30.27, \\'precip_mm\\': 0.0, \\'precip_in\\': 0.0, \\'humidity\\': 98, \\'cloud\\': 100, \\'feelslike_c\\': 8.3, \\'feelslike_f\\': 46.9, \\'windchill_c\\': 8.3, \\'windchill_f\\': 46.9, \\'heatindex_c\\': 8.3, \\'heatindex_f\\': 46.9, \\'dewpoint_c\\': 7.4, \\'dewpoint_f\\': 45.3, \\'vis_km\\': 10.0, \\'vis_miles\\': 6.0, \\'uv\\': 0.0, \\'gust_mph\\': 3.7, \\'gust_kph\\': 5.9}}\"}, {\"url\": \"https://world-weather.info/forecast/usa/san_francisco/january-2025/\", \"content\": \"Weather in San Francisco in January 2025 (California) - Detailed Weather Forecast for a Month Weather World Weather in San Francisco Weather in San Francisco in January 2025 San Francisco Weather Forecast for January 2025, is based on previous years\\' statistical data. +55°+46° +54°+45° +57°+48° +55°+48° +55°+48° +55°+46° +57°+50° +59°+50° +57°+50° +59°+50° +55°+48° +57°+48° +57°+48° +57°+50° +55°+46° +55°+48° +57°+48° +57°+48° +57°+48° +55°+48° +57°+48° +55°+48° +55°+48° +55°+46° +57°+48° +57°+48° +59°+48° +59°+48° +59°+48° +59°+48° +61°+50° Extended weather forecast in San Francisco HourlyWeek10-Day14-Day30-DayYear Weather in Washington, D.C.+30° Sacramento+45° Pleasanton+50° Redwood City+54° San Leandro+54° San Mateo+54° San Rafael+50° San Ramon+48° South San Francisco+55° Vallejo+50° Palo Alto+52° Pacifica+59° Berkeley+48° Castro Valley+54° Concord+48° Daly City+55° Leona Heights+54° Centennial+54° world\\'s temperature today day day Temperature units\"}]', name='search_tool', id='ea24dec1-4d18-4e83-acc5-6a0bab4cdda2', tool_call_id='call_hndm'),\n",
       "  AIMessage(content='The current weather in San Francisco is foggy with a temperature of 8.3 degrees Celsius (46.9 degrees Fahrenheit).', additional_kwargs={}, response_metadata={'token_usage': {'completion_tokens': 32, 'prompt_tokens': 2423, 'total_tokens': 2455, 'completion_time': 0.048298957, 'prompt_time': 0.235197671, 'queue_time': 0.017653362999999977, 'total_time': 0.283496628}, 'model_name': 'mixtral-8x7b-32768', 'system_fingerprint': 'fp_c5f20b5bb1', 'finish_reason': 'stop', 'logprobs': None}, id='run-4d12d9af-9bc0-4b08-84d8-d31d2efb6700-0', usage_metadata={'input_tokens': 2423, 'output_tokens': 32, 'total_tokens': 2455})]}"
      ]
     },
     "execution_count": 36,
     "metadata": {},
     "output_type": "execute_result"
    }
   ],
   "source": [
    "search_response"
   ]
  },
  {
   "cell_type": "code",
   "execution_count": 40,
   "metadata": {},
   "outputs": [
    {
     "data": {
      "text/plain": [
       "{'messages': [HumanMessage(content='hi my name is prashant?', additional_kwargs={}, response_metadata={}, id='6e17ef8c-51b5-42a1-8d91-4e7ba2f3c8e8'),\n",
       "  AIMessage(content='', additional_kwargs={'tool_calls': [{'id': 'call_mxv7', 'function': {'arguments': '{\"query\":\"Prashant popular baby names\"}', 'name': 'search_tool'}, 'type': 'function'}]}, response_metadata={'token_usage': {'completion_tokens': 108, 'prompt_tokens': 1318, 'total_tokens': 1426, 'completion_time': 0.166404692, 'prompt_time': 0.086301438, 'queue_time': 0.019283881000000003, 'total_time': 0.25270613}, 'model_name': 'mixtral-8x7b-32768', 'system_fingerprint': 'fp_c5f20b5bb1', 'finish_reason': 'tool_calls', 'logprobs': None}, id='run-e8524d10-ae34-4ac1-85dd-61998438c588-0', tool_calls=[{'name': 'search_tool', 'args': {'query': 'Prashant popular baby names'}, 'id': 'call_mxv7', 'type': 'tool_call'}], usage_metadata={'input_tokens': 1318, 'output_tokens': 108, 'total_tokens': 1426}),\n",
       "  ToolMessage(content='[{\"url\": \"https://drlogy.com/baby-names/meaning-of-prashant\", \"content\": \"Prashant is Baby Boy Name & Meaning Calm and composed, Peace, Pea. Prashant Rashi is Kanya & Nakshatra is Uttara Phalguni. View Origin, Religion, Astrology, Personality, Popularity & Numerology for Baby Name Prashant. ... Find the most popular religious names and their meanings for Hindus, Sikhs, Christians and Muslims as well as other faith\"}, {\"url\": \"https://www.popular-babynames.com/name/prashant\", \"content\": \"Name PRASHANT. Between 1880 and 2022 there were 98 births of Prashant in the countries below, which represents an average of 1 birth of children bearing the first name Prashant per year on average throughout this period. On the last available year for each country, we count 0 birth.\"}]', name='search_tool', id='2af1613b-56b1-437d-92f3-dabce1e0500d', tool_call_id='call_mxv7'),\n",
       "  AIMessage(content=\"Hello Prashant, your name is of Indian origin and it has a beautiful meaning - Calm and composed, Peace, Pea. It's not a very common name globally, but it's unique and holds a significant meaning. Is there anything else you would like to know?\", additional_kwargs={}, response_metadata={'token_usage': {'completion_tokens': 61, 'prompt_tokens': 1624, 'total_tokens': 1685, 'completion_time': 0.093310827, 'prompt_time': 0.12162245, 'queue_time': 0.016441541000000004, 'total_time': 0.214933277}, 'model_name': 'mixtral-8x7b-32768', 'system_fingerprint': 'fp_c5f20b5bb1', 'finish_reason': 'stop', 'logprobs': None}, id='run-703926df-cfe2-460e-96dc-9f83d6a22d3a-0', usage_metadata={'input_tokens': 1624, 'output_tokens': 61, 'total_tokens': 1685})]}"
      ]
     },
     "execution_count": 40,
     "metadata": {},
     "output_type": "execute_result"
    }
   ],
   "source": [
    "# Import necessary libraries\n",
    "import os\n",
    "from dotenv import load_dotenv\n",
    "from langchain_community.tools.tavily_search import TavilySearchResults\n",
    "from langchain_groq import ChatGroq\n",
    "from langchain_core.tools import tool\n",
    "from langgraph.prebuilt import create_react_agent\n",
    "from langgraph.checkpoint.memory import MemorySaver\n",
    "from langchain_core.messages import SystemMessage\n",
    "import json\n",
    "\n",
    "# Load environment variables from .env file\n",
    "load_dotenv()\n",
    "\n",
    "# Define the search tool using Tavily\n",
    "@tool\n",
    "def search_tool(query: str) -> str:\n",
    "    \"\"\"Searches using Tavily and returns results.\"\"\"\n",
    "    search = TavilySearchResults(max_results=2)\n",
    "    results = search.invoke(query)\n",
    "    return results\n",
    "\n",
    "# Define the analyze query tool using Groq\n",
    "@tool\n",
    "def analyze_query(query: str) -> str:\n",
    "    \"\"\"Analyzes the query using the Groq model.\"\"\"\n",
    "    llm = ChatGroq(\n",
    "        api_key=os.getenv(\"GROQ_API_KEY\"),\n",
    "        temperature=0.7,\n",
    "        model_name=\"mixtral-8x7b-32768\"\n",
    "    )\n",
    "    response = llm.invoke(query)\n",
    "    return response.content\n",
    "\n",
    "# Set up the agent with the defined tools\n",
    "def setup_agent():\n",
    "    \"\"\"Set up the agent with the new tools.\"\"\"\n",
    "    llm = ChatGroq(\n",
    "        api_key=os.getenv(\"GROQ_API_KEY\"),\n",
    "        temperature=0.7,\n",
    "        model_name=\"mixtral-8x7b-32768\"\n",
    "    )\n",
    "\n",
    "    tools = [search_tool, analyze_query]\n",
    "    memory = MemorySaver()\n",
    "    \n",
    "    system_message = \"\"\"You are an agent that can search and analyze queries. Use the tools effectively.\"\"\"\n",
    "    \n",
    "    return create_react_agent(llm, tools, checkpointer=memory)\n",
    "\n",
    "# Create the agent\n",
    "agent_executor = setup_agent()\n",
    "\n",
    "# Function to interact with the agent\n",
    "def interact_with_agent(message: str, thread_id: str):\n",
    "    \"\"\"Interact with the agent and return the response in a straightforward format.\"\"\"\n",
    "    config = {\"configurable\": {\"thread_id\": thread_id}}  # Include thread_id in the config\n",
    "    response = agent_executor.invoke({\"messages\": [{\"role\": \"user\", \"content\": message}]}, config)\n",
    "    \n",
    "    # Extract and format the weather information\n",
    "    for msg in response['messages']:\n",
    "        if isinstance(msg, dict) and 'content' in msg:\n",
    "            if 'tool_calls' in msg.get('additional_kwargs', {}):\n",
    "                tool_message = msg['additional_kwargs']['tool_calls'][0]\n",
    "                tool_content = tool_message['content']\n",
    "                \n",
    "                # Parse the JSON content\n",
    "                weather_data = json.loads(tool_content)\n",
    "                \n",
    "                # Extract relevant weather information\n",
    "                for item in weather_data:\n",
    "                    if 'content' in item:\n",
    "                        weather_info = json.loads(item['content'])\n",
    "                        current_weather = weather_info['current']\n",
    "                        location = weather_info['location']\n",
    "                        \n",
    "                        # Format the output\n",
    "                        formatted_output = (\n",
    "                            f\"The weather in {location['name']}, {location['region']} is \"\n",
    "                            f\"{current_weather['condition']['text'].lower()} with a temperature of \"\n",
    "                            f\"{current_weather['temp_c']} degrees Celsius ({current_weather['temp_f']} degrees Fahrenheit).\"\n",
    "                        )\n",
    "                        print(formatted_output)\n",
    "                        print(\"\\n\" + \"=\"*50 + \"\\n\")  # Separator for readability\n",
    "    \n",
    "    return response\n",
    "\n",
    "# Test the agent with a search query\n",
    "thread_id = \"unique_thread_1\"  # You can change this for different interactions\n",
    "search_response = interact_with_agent(\"hi my name is prashant?\", thread_id)\n",
    "\n",
    "search_response"
   ]
  },
  {
   "cell_type": "code",
   "execution_count": 43,
   "metadata": {},
   "outputs": [
    {
     "ename": "AttributeError",
     "evalue": "'AddableValuesDict' object has no attribute 'content'",
     "output_type": "error",
     "traceback": [
      "\u001b[0;31m---------------------------------------------------------------------------\u001b[0m",
      "\u001b[0;31mAttributeError\u001b[0m                            Traceback (most recent call last)",
      "Cell \u001b[0;32mIn[43], line 6\u001b[0m\n\u001b[1;32m      1\u001b[0m thread_id \u001b[38;5;241m=\u001b[39m \u001b[38;5;124m\"\u001b[39m\u001b[38;5;124munique_thread_1\u001b[39m\u001b[38;5;124m\"\u001b[39m  \u001b[38;5;66;03m# You can change this for different interactions\u001b[39;00m\n\u001b[1;32m      2\u001b[0m search_response \u001b[38;5;241m=\u001b[39m interact_with_agent(\u001b[38;5;124m\"\u001b[39m\u001b[38;5;124mwagt is my name \u001b[39m\u001b[38;5;124m\"\u001b[39m, thread_id)\n\u001b[0;32m----> 6\u001b[0m \u001b[38;5;28mprint\u001b[39m(\u001b[38;5;124mf\u001b[39m\u001b[38;5;124m\"\u001b[39m\u001b[38;5;124mContentString: \u001b[39m\u001b[38;5;132;01m{\u001b[39;00m\u001b[43msearch_response\u001b[49m\u001b[38;5;241;43m.\u001b[39;49m\u001b[43mcontent\u001b[49m\u001b[38;5;132;01m}\u001b[39;00m\u001b[38;5;124m\"\u001b[39m)\n\u001b[1;32m      7\u001b[0m \u001b[38;5;28mprint\u001b[39m(\u001b[38;5;124mf\u001b[39m\u001b[38;5;124m\"\u001b[39m\u001b[38;5;124mToolCalls: \u001b[39m\u001b[38;5;132;01m{\u001b[39;00msearch_response\u001b[38;5;241m.\u001b[39mtool_calls\u001b[38;5;132;01m}\u001b[39;00m\u001b[38;5;124m\"\u001b[39m)\n",
      "\u001b[0;31mAttributeError\u001b[0m: 'AddableValuesDict' object has no attribute 'content'"
     ]
    }
   ],
   "source": [
    "thread_id = \"unique_thread_1\"  # You can change this for different interactions\n",
    "search_response = interact_with_agent(\"wagt is my name \", thread_id)\n",
    "\n",
    "\n",
    "\n",
    "print(f\"ContentString: {search_response.content}\")\n",
    "print(f\"ToolCalls: {search_response.tool_calls}\")"
   ]
  },
  {
   "cell_type": "code",
   "execution_count": null,
   "metadata": {},
   "outputs": [],
   "source": []
  }
 ],
 "metadata": {
  "kernelspec": {
   "display_name": "Python 3",
   "language": "python",
   "name": "python3"
  },
  "language_info": {
   "codemirror_mode": {
    "name": "ipython",
    "version": 3
   },
   "file_extension": ".py",
   "mimetype": "text/x-python",
   "name": "python",
   "nbconvert_exporter": "python",
   "pygments_lexer": "ipython3",
   "version": "3.11.11"
  }
 },
 "nbformat": 4,
 "nbformat_minor": 2
}
