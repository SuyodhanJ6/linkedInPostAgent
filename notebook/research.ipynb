{
 "cells": [
  {
   "cell_type": "code",
   "execution_count": 3,
   "metadata": {},
   "outputs": [],
   "source": [
    "# Import necessary packages\n",
    "from langchain_groq import ChatGroq\n",
    "from langchain_community.tools.tavily_search import TavilySearchResults\n",
    "from langchain_core.messages import HumanMessage\n",
    "from langgraph.checkpoint.memory import MemorySaver\n",
    "from langgraph.prebuilt import create_react_agent\n",
    "import os\n"
   ]
  },
  {
   "cell_type": "code",
   "execution_count": 4,
   "metadata": {},
   "outputs": [],
   "source": []
  },
  {
   "cell_type": "code",
   "execution_count": 6,
   "metadata": {},
   "outputs": [],
   "source": [
    "# Initialize components\n",
    "def create_search_agent():\n",
    "    # Create memory for persistence\n",
    "    memory = MemorySaver()\n",
    "    \n",
    "    # Initialize the Groq model\n",
    "    model = ChatGroq(\n",
    "        model_name=\"mixtral-8x7b-32768\",\n",
    "        temperature=0.1,\n",
    "        max_tokens=4096\n",
    "    )\n",
    "    \n",
    "    # Set up the search tool\n",
    "    search = TavilySearchResults(max_results=2)\n",
    "    tools = [search]\n",
    "    \n",
    "    # Create the agent\n",
    "    agent_executor = create_react_agent(\n",
    "        model, \n",
    "        tools, \n",
    "        checkpointer=memory\n",
    "    )\n",
    "    \n",
    "    return agent_executor"
   ]
  },
  {
   "cell_type": "code",
   "execution_count": 9,
   "metadata": {},
   "outputs": [
    {
     "name": "stdout",
     "output_type": "stream",
     "text": [
      "{'agent': {'messages': [AIMessage(content='', additional_kwargs={'tool_calls': [{'id': 'call_517f', 'function': {'arguments': '{\"query\":\"who am I\"}', 'name': 'tavily_search_results_json'}, 'type': 'function'}]}, response_metadata={'token_usage': {'completion_tokens': 97, 'prompt_tokens': 1210, 'total_tokens': 1307, 'completion_time': 0.148998504, 'prompt_time': 0.198446273, 'queue_time': 0.085954156, 'total_time': 0.347444777}, 'model_name': 'mixtral-8x7b-32768', 'system_fingerprint': 'fp_c5f20b5bb1', 'finish_reason': 'tool_calls', 'logprobs': None}, id='run-fd6901bb-e15e-431f-8135-d927f1eff7fd-0', tool_calls=[{'name': 'tavily_search_results_json', 'args': {'query': 'who am I'}, 'id': 'call_517f', 'type': 'tool_call'}], usage_metadata={'input_tokens': 1210, 'output_tokens': 97, 'total_tokens': 1307})]}}\n",
      "----\n",
      "{'tools': {'messages': [ToolMessage(content='[{\"url\": \"https://destinysodyssey.com/personal-development/self-discovery/personal-identity/\", \"content\": \"Your PI is all those pieces that combine to make you a unique individual personal. Essentially, it is the collection of the answers to the philosophical question; \\\\\"Who am I?.\\\\\" Your Personal Identity. Your PI is \\\\\"Who you are\\\\\" and what makes you unique. It includes such characteristics as: Your values; Your beliefs; Your principles; Your\"}, {\"url\": \"https://hackspirit.com/who-am-i-answers-examples/\", \"content\": \"Learn how to answer the question \\\\\"Who am I?\\\\\" with these 25 examples that help you discover your values, passions, strengths, and weaknesses. Find out why it\\'s important to know yourself and how to use self-reflection to enhance your life.\"}]', name='tavily_search_results_json', id='3afd5d46-28b3-4d7a-a4b7-7147b8f50216', tool_call_id='call_517f', artifact={'query': 'who am I', 'follow_up_questions': None, 'answer': None, 'images': [], 'results': [{'title': 'personal identity - Self discovery answers \"Who am I?\" - Destiny\\'s Odyssey', 'url': 'https://destinysodyssey.com/personal-development/self-discovery/personal-identity/', 'content': 'Your PI is all those pieces that combine to make you a unique individual personal. Essentially, it is the collection of the answers to the philosophical question; \"Who am I?.\" Your Personal Identity. Your PI is \"Who you are\" and what makes you unique. It includes such characteristics as: Your values; Your beliefs; Your principles; Your', 'score': 0.69746524, 'raw_content': None}, {'title': '\"Who am I?\": Here are 25 example answers to improve your self-knowledge', 'url': 'https://hackspirit.com/who-am-i-answers-examples/', 'content': 'Learn how to answer the question \"Who am I?\" with these 25 examples that help you discover your values, passions, strengths, and weaknesses. Find out why it\\'s important to know yourself and how to use self-reflection to enhance your life.', 'score': 0.59061456, 'raw_content': None}], 'response_time': 1.46})]}}\n",
      "----\n",
      "{'agent': {'messages': [AIMessage(content='Based on the information provided by the tool, your name or personal identity is a unique combination of your values, beliefs, principles, and other characteristics that make you who you are. It is the answer to the philosophical question \"Who am I?\".', additional_kwargs={}, response_metadata={'token_usage': {'completion_tokens': 52, 'prompt_tokens': 1492, 'total_tokens': 1544, 'completion_time': 0.079309696, 'prompt_time': 0.141734889, 'queue_time': 0.01689210399999999, 'total_time': 0.221044585}, 'model_name': 'mixtral-8x7b-32768', 'system_fingerprint': 'fp_c5f20b5bb1', 'finish_reason': 'stop', 'logprobs': None}, id='run-4f3eb320-931f-4fc9-bf1b-1930196ec375-0', usage_metadata={'input_tokens': 1492, 'output_tokens': 52, 'total_tokens': 1544})]}}\n",
      "----\n"
     ]
    }
   ],
   "source": [
    "def run_agent():\n",
    "    # Create the agent\n",
    "    agent = create_search_agent()\n",
    "    \n",
    "    # Configure thread for conversation memory\n",
    "    config = {\"configurable\": {\"thread_id\": \"conversation_1\"}}\n",
    "    \n",
    "    # Example interaction\n",
    "    messages = [\n",
    "        HumanMessage(content=\"he my name is prashant\")\n",
    "    ]\n",
    "    \n",
    "    # Stream the response\n",
    "    for chunk in agent.stream({\"messages\": messages}, config):\n",
    "        print(chunk)\n",
    "        print(\"----\")\n",
    "\n",
    "run_agent()"
   ]
  },
  {
   "cell_type": "code",
   "execution_count": 10,
   "metadata": {},
   "outputs": [
    {
     "name": "stdout",
     "output_type": "stream",
     "text": [
      "{'agent': {'messages': [AIMessage(content='', additional_kwargs={'tool_calls': [{'id': 'call_zpn5', 'function': {'arguments': '{\"query\":\"Prashant\\'s name meaning\"}', 'name': 'tavily_search_results_json'}, 'type': 'function'}]}, response_metadata={'token_usage': {'completion_tokens': 101, 'prompt_tokens': 1213, 'total_tokens': 1314, 'completion_time': 0.154673505, 'prompt_time': 0.058081066, 'queue_time': 0.019558015999999998, 'total_time': 0.212754571}, 'model_name': 'mixtral-8x7b-32768', 'system_fingerprint': 'fp_c5f20b5bb1', 'finish_reason': 'tool_calls', 'logprobs': None}, id='run-0ba879d5-336d-4b35-b712-2963b146d912-0', tool_calls=[{'name': 'tavily_search_results_json', 'args': {'query': \"Prashant's name meaning\"}, 'id': 'call_zpn5', 'type': 'tool_call'}], usage_metadata={'input_tokens': 1213, 'output_tokens': 101, 'total_tokens': 1314})]}}\n",
      "----\n",
      "{'tools': {'messages': [ToolMessage(content='[{\"url\": \"https://www.onlymyhealth.com/baby-names/meaning-of-name-prashant-1427780106\", \"content\": \"Prashant is a masculine Hindu Indian name that means \\\\\"calm, quiet, peaceful, or tranquil.\\\\\" It is derived from the Sanskrit word \\\\\"shanta,\\\\\" which means \\\\\"calm\\\\\" or \\\\\"peaceful.\\\\\"\"}, {\"url\": \"https://www.babynamespedia.com/meaning/Prashant\", \"content\": \"[ 2 syll. pras-han(t), pr-asha-nt] The baby boy name Prashant is pronounced as PR AA SH AA NT †. Prashant is derived from Sanskrit origins. Prashant is of the meaning one who is peaceful; calm.. Prashante, Prashanth, and Prashanthe are variants of Prashant.. See also the related category sanskrit.. Prashant is not popular as a baby name for boys.\"}]', name='tavily_search_results_json', id='08588b99-6022-4e1d-b806-b25a51f5ffe7', tool_call_id='call_zpn5', artifact={'query': \"Prashant's name meaning\", 'follow_up_questions': None, 'answer': None, 'images': [], 'results': [{'title': 'Prashant Baby Name Meaning, Moon Sign, Personality, Lucky Number ...', 'url': 'https://www.onlymyhealth.com/baby-names/meaning-of-name-prashant-1427780106', 'content': 'Prashant is a masculine Hindu Indian name that means \"calm, quiet, peaceful, or tranquil.\" It is derived from the Sanskrit word \"shanta,\" which means \"calm\" or \"peaceful.\"', 'score': 0.9307171, 'raw_content': None}, {'title': 'Prashant - Meaning of Prashant, What does Prashant mean? - BabyNamesPedia', 'url': 'https://www.babynamespedia.com/meaning/Prashant', 'content': '[ 2 syll. pras-han(t), pr-asha-nt] The baby boy name Prashant is pronounced as PR AA SH AA NT †. Prashant is derived from Sanskrit origins. Prashant is of the meaning one who is peaceful; calm.. Prashante, Prashanth, and Prashanthe are variants of Prashant.. See also the related category sanskrit.. Prashant is not popular as a baby name for boys.', 'score': 0.91306627, 'raw_content': None}], 'response_time': 1.35})]}}\n",
      "----\n",
      "{'agent': {'messages': [AIMessage(content=\"Your name, Prashant, is of Sanskrit origin and it means 'calm', 'quiet', 'peaceful', or 'tranquil'. It is derived from the Sanskrit word 'shanta', which means 'calm' or 'peaceful'. The name Prashant is not particularly popular as a baby name for boys.\", additional_kwargs={}, response_metadata={'token_usage': {'completion_tokens': 77, 'prompt_tokens': 1530, 'total_tokens': 1607, 'completion_time': 0.11778457, 'prompt_time': 0.065220713, 'queue_time': 0.018352837999999996, 'total_time': 0.183005283}, 'model_name': 'mixtral-8x7b-32768', 'system_fingerprint': 'fp_c5f20b5bb1', 'finish_reason': 'stop', 'logprobs': None}, id='run-231c3e83-b950-43ac-b13b-99cb181f7576-0', usage_metadata={'input_tokens': 1530, 'output_tokens': 77, 'total_tokens': 1607})]}}\n",
      "----\n"
     ]
    }
   ],
   "source": [
    "def run_agent():\n",
    "    # Create the agent\n",
    "    agent = create_search_agent()\n",
    "    \n",
    "    # Configure thread for conversation memory\n",
    "    config = {\"configurable\": {\"thread_id\": \"conversation_2\"}}\n",
    "    \n",
    "    # Example interaction\n",
    "    messages = [\n",
    "        HumanMessage(content=\"he my name is prashant\")\n",
    "    ]\n",
    "    \n",
    "    # Stream the response\n",
    "    for chunk in agent.stream({\"messages\": messages}, config):\n",
    "        print(chunk)\n",
    "        print(\"----\")\n",
    "\n",
    "run_agent()"
   ]
  },
  {
   "cell_type": "code",
   "execution_count": 11,
   "metadata": {},
   "outputs": [
    {
     "name": "stdout",
     "output_type": "stream",
     "text": [
      "{'agent': {'messages': [AIMessage(content='', additional_kwargs={'tool_calls': [{'id': 'call_w16y', 'function': {'arguments': '{\"query\":\"who am I\"}', 'name': 'tavily_search_results_json'}, 'type': 'function'}]}, response_metadata={'token_usage': {'completion_tokens': 97, 'prompt_tokens': 1211, 'total_tokens': 1308, 'completion_time': 0.148958718, 'prompt_time': 0.051587285, 'queue_time': 0.019967897, 'total_time': 0.200546003}, 'model_name': 'mixtral-8x7b-32768', 'system_fingerprint': 'fp_c5f20b5bb1', 'finish_reason': 'tool_calls', 'logprobs': None}, id='run-79f272ab-fad0-42ce-883c-0ff74065055b-0', tool_calls=[{'name': 'tavily_search_results_json', 'args': {'query': 'who am I'}, 'id': 'call_w16y', 'type': 'tool_call'}], usage_metadata={'input_tokens': 1211, 'output_tokens': 97, 'total_tokens': 1308})]}}\n",
      "----\n",
      "{'tools': {'messages': [ToolMessage(content='[{\"url\": \"https://hackspirit.com/who-am-i-answers-examples/\", \"content\": \"More From: Mindful Living\\\\nIf you want to excel in life, say goodbye to these 9 behaviors\\\\nby\\\\nTina Fey\\\\nNovember 18, 2023, 2:24 pm\\\\n12 evening affirmations that will make you more productive the next day\\\\nby\\\\nAmy Reed\\\\nNovember 16, 2023, 5:00 pm\\\\n6 signs you’re focused on things that money can’t buy\\\\nby\\\\nTina Fey\\\\nNovember 13, 2023, 7:00 pm\\\\n7 behaviors that give people the impression you’re quite self-absorbed\\\\nby\\\\nNato Lagidze\\\\nNovember 13, 2023, 5:00 pm\\\\n9 simple Spartan life rules that will make you mentally tougher\\\\nby\\\\nClifton Kopp\\\\nNovember 12, 2023, 5:00 am\\\\n7 Confucian teachings to bring harmony into your daily life\\\\nby\\\\nTina Fey\\\\nNovember 11, 2023, 1:00 am\\\\n37 unfortunate signs your friend actually hates you (complete list)\\\\n18 unfortunate signs he is secretly seeing someone else\\\\nAbout Hack Spirit\\\\nHack Spirit is one of the leading authorities providing practical and accessible relationship advice. In the words of the 14th-century mystical poet Hafez:\\\\n“I have a thousand brilliant lies\\\\nFor the question:\\\\nHow are you?\\\\nI have a thousand brilliant lies\\\\nFor the question:\\\\nWhat is God?\\\\n If you think that the Truth can be known\\\\nFrom words,\\\\nIf you think that the Sun and the Ocean\\\\nCan pass through that tiny opening Called the mouth,\\\\nO someone should start laughing!\\\\n One of the reasons why answering “Who am I” is so tricky is because the social roles you play in life —as an accountant, a brother, a father, a heterosexual man, etc.— don’t get to the heart of who you really are. Last Updated September 15, 2023, 12:31 am\\\\nThere are 1001 potential answers to the question ‘Who am I?”\\\\nIt sounds like a simple question but it’s got a complicated answer, least of all because there is no single you.\\\\n\"}, {\"url\": \"https://ideapod.com/who-am-i-answers-examples/\", \"content\": \"10) Am I good or bad? Some people answer the question of \\\\\"Who am I?\\\\\" by asking: \\\\\"Am I good or bad?\\\\\" This is a very important question to ask. It is a critical first step in the self-discovery process. The answer to this question will help you make decisions about your life and your values.\"}]', name='tavily_search_results_json', id='7bf9380b-f2d4-437d-816d-4ba0a29a7820', tool_call_id='call_w16y', artifact={'query': 'who am I', 'follow_up_questions': None, 'answer': None, 'images': [], 'results': [{'title': '\"Who am I?\": Here are 25 example answers to improve your self-knowledge', 'url': 'https://hackspirit.com/who-am-i-answers-examples/', 'content': 'More From: Mindful Living\\nIf you want to excel in life, say goodbye to these 9 behaviors\\nby\\nTina Fey\\nNovember 18, 2023, 2:24 pm\\n12 evening affirmations that will make you more productive the next day\\nby\\nAmy Reed\\nNovember 16, 2023, 5:00 pm\\n6 signs you’re focused on things that money can’t buy\\nby\\nTina Fey\\nNovember 13, 2023, 7:00 pm\\n7 behaviors that give people the impression you’re quite self-absorbed\\nby\\nNato Lagidze\\nNovember 13, 2023, 5:00 pm\\n9 simple Spartan life rules that will make you mentally tougher\\nby\\nClifton Kopp\\nNovember 12, 2023, 5:00 am\\n7 Confucian teachings to bring harmony into your daily life\\nby\\nTina Fey\\nNovember 11, 2023, 1:00 am\\n37 unfortunate signs your friend actually hates you (complete list)\\n18 unfortunate signs he is secretly seeing someone else\\nAbout Hack Spirit\\nHack Spirit is one of the leading authorities providing practical and accessible relationship advice. In the words of the 14th-century mystical poet Hafez:\\n“I have a thousand brilliant lies\\nFor the question:\\nHow are you?\\nI have a thousand brilliant lies\\nFor the question:\\nWhat is God?\\n If you think that the Truth can be known\\nFrom words,\\nIf you think that the Sun and the Ocean\\nCan pass through that tiny opening Called the mouth,\\nO someone should start laughing!\\n One of the reasons why answering “Who am I” is so tricky is because the social roles you play in life —as an accountant, a brother, a father, a heterosexual man, etc.— don’t get to the heart of who you really are. Last Updated September 15, 2023, 12:31 am\\nThere are 1001 potential answers to the question ‘Who am I?”\\nIt sounds like a simple question but it’s got a complicated answer, least of all because there is no single you.\\n', 'score': 0.7265231, 'raw_content': None}, {'title': '15 example answers to the question: Who am I? - Ideapod', 'url': 'https://ideapod.com/who-am-i-answers-examples/', 'content': '10) Am I good or bad? Some people answer the question of \"Who am I?\" by asking: \"Am I good or bad?\" This is a very important question to ask. It is a critical first step in the self-discovery process. The answer to this question will help you make decisions about your life and your values.', 'score': 0.585789, 'raw_content': None}], 'response_time': 1.48})]}}\n",
      "----\n",
      "{'agent': {'messages': [AIMessage(content='Based on the search results from the tool, it seems that answering \"Who am I?\" can be a complex question as it goes beyond just the social roles one plays in life. It also involves introspection and self-discovery, including asking oneself if they are good or bad. However, the tool did not provide a direct answer to your name. If you have any other questions, feel free to ask!', additional_kwargs={}, response_metadata={'token_usage': {'completion_tokens': 86, 'prompt_tokens': 1990, 'total_tokens': 2076, 'completion_time': 0.132348052, 'prompt_time': 0.084032492, 'queue_time': 0.017211726999999996, 'total_time': 0.216380544}, 'model_name': 'mixtral-8x7b-32768', 'system_fingerprint': 'fp_c5f20b5bb1', 'finish_reason': 'stop', 'logprobs': None}, id='run-5cc88478-92a1-404a-8510-baf54293463d-0', usage_metadata={'input_tokens': 1990, 'output_tokens': 86, 'total_tokens': 2076})]}}\n",
      "----\n"
     ]
    }
   ],
   "source": [
    "def run_agent():\n",
    "    # Create the agent\n",
    "    agent = create_search_agent()\n",
    "    \n",
    "    # Configure thread for conversation memory\n",
    "    config = {\"configurable\": {\"thread_id\": \"conversation_2\"}}\n",
    "    \n",
    "    # Example interaction\n",
    "    messages = [\n",
    "        HumanMessage(content=\"what is my name?\")\n",
    "    ]\n",
    "    \n",
    "    # Stream the response\n",
    "    for chunk in agent.stream({\"messages\": messages}, config):\n",
    "        print(chunk)\n",
    "        print(\"----\")\n",
    "\n",
    "run_agent()"
   ]
  },
  {
   "cell_type": "code",
   "execution_count": 12,
   "metadata": {},
   "outputs": [],
   "source": [
    "from langgraph.checkpoint.memory import MemorySaver\n",
    "\n",
    "memory = MemorySaver()\n",
    "\n"
   ]
  },
  {
   "cell_type": "code",
   "execution_count": 13,
   "metadata": {},
   "outputs": [
    {
     "data": {
      "text/plain": [
       "<langgraph.checkpoint.memory.MemorySaver at 0x7541039354d0>"
      ]
     },
     "execution_count": 13,
     "metadata": {},
     "output_type": "execute_result"
    }
   ],
   "source": [
    "memory"
   ]
  },
  {
   "cell_type": "code",
   "execution_count": 22,
   "metadata": {},
   "outputs": [],
   "source": [
    "model = ChatGroq(\n",
    "    model_name=\"mixtral-8x7b-32768\",\n",
    "    temperature=0.1,\n",
    "    max_tokens=4096\n",
    ")\n",
    "from langchain_core.tools import tool\n",
    "\n",
    "\n",
    "@tool\n",
    "def multiply(a: int, b: int) -> int:\n",
    "    \"\"\"Multiply two numbers.\"\"\"\n",
    "    return a * b\n",
    "\n",
    "\n",
    "\n",
    "\n",
    "from langchain_community.tools.tavily_search import TavilySearchResults\n",
    "\n",
    "search = TavilySearchResults(max_results=2)\n",
    "tools = [search, multiply]\n",
    "\n",
    "\n"
   ]
  },
  {
   "cell_type": "code",
   "execution_count": 23,
   "metadata": {},
   "outputs": [],
   "source": [
    "agent_executor = create_react_agent(model, tools, checkpointer=memory)\n"
   ]
  },
  {
   "cell_type": "code",
   "execution_count": 24,
   "metadata": {},
   "outputs": [
    {
     "data": {
      "image/png": "[encoded data removed]",
      "text/plain": [
       "<langgraph.graph.state.CompiledStateGraph object at 0x754102b3a2d0>"
      ]
     },
     "execution_count": 24,
     "metadata": {},
     "output_type": "execute_result"
    }
   ],
   "source": [
    "agent_executor"
   ]
  },
  {
   "cell_type": "code",
   "execution_count": 25,
   "metadata": {},
   "outputs": [
    {
     "name": "stdout",
     "output_type": "stream",
     "text": [
      "{'agent': {'messages': [AIMessage(content='', additional_kwargs={'tool_calls': [{'id': 'call_7drz', 'function': {'arguments': '{\"a\":2,\"b\":4}', 'name': 'multiply'}, 'type': 'function'}]}, response_metadata={'token_usage': {'completion_tokens': 97, 'prompt_tokens': 1396, 'total_tokens': 1493, 'completion_time': 0.148315756, 'prompt_time': 0.097090138, 'queue_time': 0.019203849999999995, 'total_time': 0.245405894}, 'model_name': 'mixtral-8x7b-32768', 'system_fingerprint': 'fp_c5f20b5bb1', 'finish_reason': 'tool_calls', 'logprobs': None}, id='run-629fa3df-72ba-4b22-a643-17ab4219e9ce-0', tool_calls=[{'name': 'multiply', 'args': {'a': 2, 'b': 4}, 'id': 'call_7drz', 'type': 'tool_call'}], usage_metadata={'input_tokens': 1396, 'output_tokens': 97, 'total_tokens': 1493})]}}\n",
      "----\n",
      "{'tools': {'messages': [ToolMessage(content='8', name='multiply', id='1f838a56-8a39-4484-aa2b-aa4a9385f2e1', tool_call_id='call_7drz')]}}\n",
      "----\n",
      "{'agent': {'messages': [AIMessage(content='The product of 2 and 4 is 8.', additional_kwargs={}, response_metadata={'token_usage': {'completion_tokens': 13, 'prompt_tokens': 1473, 'total_tokens': 1486, 'completion_time': 0.018592166, 'prompt_time': 0.082593612, 'queue_time': 0.017914807000000005, 'total_time': 0.101185778}, 'model_name': 'mixtral-8x7b-32768', 'system_fingerprint': 'fp_c5f20b5bb1', 'finish_reason': 'stop', 'logprobs': None}, id='run-065db3f6-376f-4379-a8bb-fcd65bc6e070-0', usage_metadata={'input_tokens': 1473, 'output_tokens': 13, 'total_tokens': 1486})]}}\n",
      "----\n"
     ]
    }
   ],
   "source": [
    "config = {\"configurable\": {\"thread_id\": \"1\"}}\n",
    "\n",
    "for chunk in agent_executor.stream(\n",
    "    {\"messages\": [HumanMessage(content=\"what is 2*4!\")]}, config\n",
    "):\n",
    "    print(chunk)\n",
    "    print(\"----\")"
   ]
  },
  {
   "cell_type": "code",
   "execution_count": 26,
   "metadata": {},
   "outputs": [
    {
     "name": "stdout",
     "output_type": "stream",
     "text": [
      "{'agent': {'messages': [AIMessage(content=\"I'm an AI language model, so I don't have a name in the human sense. I'm here to help answer your questions to the best of my ability.\", additional_kwargs={}, response_metadata={'token_usage': {'completion_tokens': 38, 'prompt_tokens': 1498, 'total_tokens': 1536, 'completion_time': 0.057472283, 'prompt_time': 0.063895417, 'queue_time': 0.016816934000000006, 'total_time': 0.1213677}, 'model_name': 'mixtral-8x7b-32768', 'system_fingerprint': 'fp_c5f20b5bb1', 'finish_reason': 'stop', 'logprobs': None}, id='run-05bb63e8-f2e1-49cb-80f8-60e2ecd3c84c-0', usage_metadata={'input_tokens': 1498, 'output_tokens': 38, 'total_tokens': 1536})]}}\n",
      "----\n"
     ]
    }
   ],
   "source": [
    "for chunk in agent_executor.stream(\n",
    "    {\"messages\": [HumanMessage(content=\"whats my name?\")]}, config\n",
    "):\n",
    "    print(chunk)\n",
    "    print(\"----\")"
   ]
  },
  {
   "cell_type": "code",
   "execution_count": 21,
   "metadata": {},
   "outputs": [
    {
     "name": "stdout",
     "output_type": "stream",
     "text": [
      "multiply\n",
      "Multiply two numbers.\n",
      "{'a': {'title': 'A', 'type': 'integer'}, 'b': {'title': 'B', 'type': 'integer'}}\n"
     ]
    }
   ],
   "source": [
    "from langchain_core.tools import tool\n",
    "\n",
    "\n",
    "@tool\n",
    "def multiply(a: int, b: int) -> int:\n",
    "    \"\"\"Multiply two numbers.\"\"\"\n",
    "    return a * b\n",
    "\n",
    "\n",
    "# Let's inspect some of the attributes associated with the tool.\n",
    "print(multiply.name)\n",
    "print(multiply.description)\n",
    "print(multiply.args)\n",
    "\n",
    "\n"
   ]
  },
  {
   "cell_type": "code",
   "execution_count": null,
   "metadata": {},
   "outputs": [],
   "source": []
  }
 ],
 "metadata": {
  "kernelspec": {
   "display_name": "Python 3",
   "language": "python",
   "name": "python3"
  },
  "language_info": {
   "codemirror_mode": {
    "name": "ipython",
    "version": 3
   },
   "file_extension": ".py",
   "mimetype": "text/x-python",
   "name": "python",
   "nbconvert_exporter": "python",
   "pygments_lexer": "ipython3",
   "version": "3.11.11"
  }
 },
 "nbformat": 4,
 "nbformat_minor": 2
}
